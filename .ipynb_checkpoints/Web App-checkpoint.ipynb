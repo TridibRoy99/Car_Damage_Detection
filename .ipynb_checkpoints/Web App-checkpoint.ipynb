{
 "cells": [
  {
   "cell_type": "markdown",
   "metadata": {},
   "source": [
    "# Car Damage detection WebApp with Streamlit"
   ]
  },
  {
   "cell_type": "markdown",
   "metadata": {},
   "source": [
    "## Installing dependencies"
   ]
  },
  {
   "cell_type": "code",
   "execution_count": 1,
   "metadata": {
    "colab": {
     "base_uri": "https://localhost:8080/",
     "height": 1000
    },
    "executionInfo": {
     "elapsed": 14175,
     "status": "ok",
     "timestamp": 1649686714694,
     "user": {
      "displayName": "Tridib roy",
      "userId": "02827173694421186564"
     },
     "user_tz": -330
    },
    "id": "NDB5V175kbAK",
    "outputId": "ef1e472c-71b6-4e93-8db5-87f7c7b06b62",
    "scrolled": true
   },
   "outputs": [
    {
     "name": "stdout",
     "output_type": "stream",
     "text": [
      "Requirement already satisfied: ipykernel in /usr/local/lib/python3.7/dist-packages (4.10.1)\n",
      "Collecting ipykernel\n",
      "  Downloading ipykernel-6.13.0-py3-none-any.whl (131 kB)\n",
      "\u001b[K     |████████████████████████████████| 131 kB 7.7 MB/s \n",
      "\u001b[?25hRequirement already satisfied: traitlets>=5.1.0 in /usr/local/lib/python3.7/dist-packages (from ipykernel) (5.1.1)\n",
      "Collecting tornado>=6.1\n",
      "  Downloading tornado-6.1-cp37-cp37m-manylinux2010_x86_64.whl (428 kB)\n",
      "\u001b[K     |████████████████████████████████| 428 kB 46.3 MB/s \n",
      "\u001b[?25hRequirement already satisfied: packaging in /usr/local/lib/python3.7/dist-packages (from ipykernel) (21.3)\n",
      "Requirement already satisfied: debugpy>=1.0 in /usr/local/lib/python3.7/dist-packages (from ipykernel) (1.0.0)\n",
      "Requirement already satisfied: nest-asyncio in /usr/local/lib/python3.7/dist-packages (from ipykernel) (1.5.4)\n",
      "Collecting ipython>=7.23.1\n",
      "  Downloading ipython-7.32.0-py3-none-any.whl (793 kB)\n",
      "\u001b[K     |████████████████████████████████| 793 kB 46.1 MB/s \n",
      "\u001b[?25hRequirement already satisfied: matplotlib-inline>=0.1 in /usr/local/lib/python3.7/dist-packages (from ipykernel) (0.1.3)\n",
      "Requirement already satisfied: psutil in /usr/local/lib/python3.7/dist-packages (from ipykernel) (5.4.8)\n",
      "Collecting jupyter-client>=6.1.12\n",
      "  Downloading jupyter_client-7.2.2-py3-none-any.whl (130 kB)\n",
      "\u001b[K     |████████████████████████████████| 130 kB 44.7 MB/s \n",
      "\u001b[?25hRequirement already satisfied: decorator in /usr/local/lib/python3.7/dist-packages (from ipython>=7.23.1->ipykernel) (4.4.2)\n",
      "Requirement already satisfied: pickleshare in /usr/local/lib/python3.7/dist-packages (from ipython>=7.23.1->ipykernel) (0.7.5)\n",
      "Requirement already satisfied: jedi>=0.16 in /usr/local/lib/python3.7/dist-packages (from ipython>=7.23.1->ipykernel) (0.18.1)\n",
      "Requirement already satisfied: setuptools>=18.5 in /usr/local/lib/python3.7/dist-packages (from ipython>=7.23.1->ipykernel) (57.4.0)\n",
      "Requirement already satisfied: pygments in /usr/local/lib/python3.7/dist-packages (from ipython>=7.23.1->ipykernel) (2.6.1)\n",
      "Requirement already satisfied: pexpect>4.3 in /usr/local/lib/python3.7/dist-packages (from ipython>=7.23.1->ipykernel) (4.8.0)\n",
      "Collecting prompt-toolkit!=3.0.0,!=3.0.1,<3.1.0,>=2.0.0\n",
      "  Downloading prompt_toolkit-3.0.29-py3-none-any.whl (381 kB)\n",
      "\u001b[K     |████████████████████████████████| 381 kB 44.7 MB/s \n",
      "\u001b[?25hRequirement already satisfied: backcall in /usr/local/lib/python3.7/dist-packages (from ipython>=7.23.1->ipykernel) (0.2.0)\n",
      "Requirement already satisfied: parso<0.9.0,>=0.8.0 in /usr/local/lib/python3.7/dist-packages (from jedi>=0.16->ipython>=7.23.1->ipykernel) (0.8.3)\n",
      "Requirement already satisfied: pyzmq>=22.3 in /usr/local/lib/python3.7/dist-packages (from jupyter-client>=6.1.12->ipykernel) (22.3.0)\n",
      "Requirement already satisfied: jupyter-core>=4.9.2 in /usr/local/lib/python3.7/dist-packages (from jupyter-client>=6.1.12->ipykernel) (4.9.2)\n",
      "Requirement already satisfied: entrypoints in /usr/local/lib/python3.7/dist-packages (from jupyter-client>=6.1.12->ipykernel) (0.4)\n",
      "Requirement already satisfied: python-dateutil>=2.8.2 in /usr/local/lib/python3.7/dist-packages (from jupyter-client>=6.1.12->ipykernel) (2.8.2)\n",
      "Requirement already satisfied: ptyprocess>=0.5 in /usr/local/lib/python3.7/dist-packages (from pexpect>4.3->ipython>=7.23.1->ipykernel) (0.7.0)\n",
      "Requirement already satisfied: wcwidth in /usr/local/lib/python3.7/dist-packages (from prompt-toolkit!=3.0.0,!=3.0.1,<3.1.0,>=2.0.0->ipython>=7.23.1->ipykernel) (0.2.5)\n",
      "Requirement already satisfied: six>=1.5 in /usr/local/lib/python3.7/dist-packages (from python-dateutil>=2.8.2->jupyter-client>=6.1.12->ipykernel) (1.15.0)\n",
      "Requirement already satisfied: pyparsing!=3.0.5,>=2.0.2 in /usr/local/lib/python3.7/dist-packages (from packaging->ipykernel) (3.0.7)\n",
      "Installing collected packages: tornado, prompt-toolkit, jupyter-client, ipython, ipykernel\n",
      "  Attempting uninstall: tornado\n",
      "    Found existing installation: tornado 5.1.1\n",
      "    Uninstalling tornado-5.1.1:\n",
      "      Successfully uninstalled tornado-5.1.1\n",
      "  Attempting uninstall: prompt-toolkit\n",
      "    Found existing installation: prompt-toolkit 1.0.18\n",
      "    Uninstalling prompt-toolkit-1.0.18:\n",
      "      Successfully uninstalled prompt-toolkit-1.0.18\n",
      "  Attempting uninstall: jupyter-client\n",
      "    Found existing installation: jupyter-client 5.3.5\n",
      "    Uninstalling jupyter-client-5.3.5:\n",
      "      Successfully uninstalled jupyter-client-5.3.5\n",
      "  Attempting uninstall: ipython\n",
      "    Found existing installation: ipython 5.5.0\n",
      "    Uninstalling ipython-5.5.0:\n",
      "      Successfully uninstalled ipython-5.5.0\n",
      "  Attempting uninstall: ipykernel\n",
      "    Found existing installation: ipykernel 4.10.1\n",
      "    Uninstalling ipykernel-4.10.1:\n",
      "      Successfully uninstalled ipykernel-4.10.1\n",
      "\u001b[31mERROR: pip's dependency resolver does not currently take into account all the packages that are installed. This behaviour is the source of the following dependency conflicts.\n",
      "jupyter-console 5.2.0 requires prompt-toolkit<2.0.0,>=1.0.0, but you have prompt-toolkit 3.0.29 which is incompatible.\n",
      "google-colab 1.0.0 requires ipykernel~=4.10, but you have ipykernel 6.13.0 which is incompatible.\n",
      "google-colab 1.0.0 requires ipython~=5.5.0, but you have ipython 7.32.0 which is incompatible.\n",
      "google-colab 1.0.0 requires tornado~=5.1.0; python_version >= \"3.0\", but you have tornado 6.1 which is incompatible.\u001b[0m\n",
      "Successfully installed ipykernel-6.13.0 ipython-7.32.0 jupyter-client-7.2.2 prompt-toolkit-3.0.29 tornado-6.1\n"
     ]
    },
    {
     "data": {
      "application/vnd.colab-display-data+json": {
       "pip_warning": {
        "packages": [
         "IPython",
         "ipykernel",
         "jupyter_client",
         "prompt_toolkit",
         "tornado"
        ]
       }
      }
     },
     "metadata": {},
     "output_type": "display_data"
    }
   ],
   "source": [
    "!pip install -U ipykernel"
   ]
  },
  {
   "cell_type": "code",
   "execution_count": 2,
   "metadata": {
    "colab": {
     "base_uri": "https://localhost:8080/"
    },
    "executionInfo": {
     "elapsed": 10343,
     "status": "ok",
     "timestamp": 1649686727205,
     "user": {
      "displayName": "Tridib roy",
      "userId": "02827173694421186564"
     },
     "user_tz": -330
    },
    "id": "ht6_smppkkPr",
    "outputId": "9bf88ff4-f565-447b-8941-bbf6b39b86ee",
    "scrolled": true
   },
   "outputs": [
    {
     "name": "stdout",
     "output_type": "stream",
     "text": [
      "\u001b[K     |████████████████████████████████| 10.1 MB 8.7 MB/s \n",
      "\u001b[K     |████████████████████████████████| 76 kB 5.0 MB/s \n",
      "\u001b[K     |████████████████████████████████| 181 kB 49.2 MB/s \n",
      "\u001b[K     |████████████████████████████████| 164 kB 47.4 MB/s \n",
      "\u001b[K     |████████████████████████████████| 111 kB 44.2 MB/s \n",
      "\u001b[K     |████████████████████████████████| 4.3 MB 39.2 MB/s \n",
      "\u001b[K     |████████████████████████████████| 63 kB 1.4 MB/s \n",
      "\u001b[?25h  Building wheel for blinker (setup.py) ... \u001b[?25l\u001b[?25hdone\n"
     ]
    }
   ],
   "source": [
    "!pip install -q streamlit"
   ]
  },
  {
   "cell_type": "code",
   "execution_count": 3,
   "metadata": {
    "colab": {
     "base_uri": "https://localhost:8080/"
    },
    "executionInfo": {
     "elapsed": 7272,
     "status": "ok",
     "timestamp": 1649686740120,
     "user": {
      "displayName": "Tridib roy",
      "userId": "02827173694421186564"
     },
     "user_tz": -330
    },
    "id": "9b1_JzqRksza",
    "outputId": "4cc7448f-0288-484b-f69a-c00053cc52bc"
   },
   "outputs": [
    {
     "name": "stdout",
     "output_type": "stream",
     "text": [
      "Collecting pyngrok\n",
      "  Downloading pyngrok-5.1.0.tar.gz (745 kB)\n",
      "\u001b[?25l\r",
      "\u001b[K     |▍                               | 10 kB 20.0 MB/s eta 0:00:01\r",
      "\u001b[K     |▉                               | 20 kB 11.4 MB/s eta 0:00:01\r",
      "\u001b[K     |█▎                              | 30 kB 8.0 MB/s eta 0:00:01\r",
      "\u001b[K     |█▊                              | 40 kB 7.2 MB/s eta 0:00:01\r",
      "\u001b[K     |██▏                             | 51 kB 3.1 MB/s eta 0:00:01\r",
      "\u001b[K     |██▋                             | 61 kB 3.6 MB/s eta 0:00:01\r",
      "\u001b[K     |███                             | 71 kB 4.2 MB/s eta 0:00:01\r",
      "\u001b[K     |███▌                            | 81 kB 4.6 MB/s eta 0:00:01\r",
      "\u001b[K     |████                            | 92 kB 5.1 MB/s eta 0:00:01\r",
      "\u001b[K     |████▍                           | 102 kB 5.7 MB/s eta 0:00:01\r",
      "\u001b[K     |████▉                           | 112 kB 5.7 MB/s eta 0:00:01\r",
      "\u001b[K     |█████▎                          | 122 kB 5.7 MB/s eta 0:00:01\r",
      "\u001b[K     |█████▊                          | 133 kB 5.7 MB/s eta 0:00:01\r",
      "\u001b[K     |██████▏                         | 143 kB 5.7 MB/s eta 0:00:01\r",
      "\u001b[K     |██████▋                         | 153 kB 5.7 MB/s eta 0:00:01\r",
      "\u001b[K     |███████                         | 163 kB 5.7 MB/s eta 0:00:01\r",
      "\u001b[K     |███████▌                        | 174 kB 5.7 MB/s eta 0:00:01\r",
      "\u001b[K     |████████                        | 184 kB 5.7 MB/s eta 0:00:01\r",
      "\u001b[K     |████████▍                       | 194 kB 5.7 MB/s eta 0:00:01\r",
      "\u001b[K     |████████▉                       | 204 kB 5.7 MB/s eta 0:00:01\r",
      "\u001b[K     |█████████▎                      | 215 kB 5.7 MB/s eta 0:00:01\r",
      "\u001b[K     |█████████▊                      | 225 kB 5.7 MB/s eta 0:00:01\r",
      "\u001b[K     |██████████▏                     | 235 kB 5.7 MB/s eta 0:00:01\r",
      "\u001b[K     |██████████▌                     | 245 kB 5.7 MB/s eta 0:00:01\r",
      "\u001b[K     |███████████                     | 256 kB 5.7 MB/s eta 0:00:01\r",
      "\u001b[K     |███████████▍                    | 266 kB 5.7 MB/s eta 0:00:01\r",
      "\u001b[K     |███████████▉                    | 276 kB 5.7 MB/s eta 0:00:01\r",
      "\u001b[K     |████████████▎                   | 286 kB 5.7 MB/s eta 0:00:01\r",
      "\u001b[K     |████████████▊                   | 296 kB 5.7 MB/s eta 0:00:01\r",
      "\u001b[K     |█████████████▏                  | 307 kB 5.7 MB/s eta 0:00:01\r",
      "\u001b[K     |█████████████▋                  | 317 kB 5.7 MB/s eta 0:00:01\r",
      "\u001b[K     |██████████████                  | 327 kB 5.7 MB/s eta 0:00:01\r",
      "\u001b[K     |██████████████▌                 | 337 kB 5.7 MB/s eta 0:00:01\r",
      "\u001b[K     |███████████████                 | 348 kB 5.7 MB/s eta 0:00:01\r",
      "\u001b[K     |███████████████▍                | 358 kB 5.7 MB/s eta 0:00:01\r",
      "\u001b[K     |███████████████▉                | 368 kB 5.7 MB/s eta 0:00:01\r",
      "\u001b[K     |████████████████▎               | 378 kB 5.7 MB/s eta 0:00:01\r",
      "\u001b[K     |████████████████▊               | 389 kB 5.7 MB/s eta 0:00:01\r",
      "\u001b[K     |█████████████████▏              | 399 kB 5.7 MB/s eta 0:00:01\r",
      "\u001b[K     |█████████████████▋              | 409 kB 5.7 MB/s eta 0:00:01\r",
      "\u001b[K     |██████████████████              | 419 kB 5.7 MB/s eta 0:00:01\r",
      "\u001b[K     |██████████████████▌             | 430 kB 5.7 MB/s eta 0:00:01\r",
      "\u001b[K     |███████████████████             | 440 kB 5.7 MB/s eta 0:00:01\r",
      "\u001b[K     |███████████████████▍            | 450 kB 5.7 MB/s eta 0:00:01\r",
      "\u001b[K     |███████████████████▉            | 460 kB 5.7 MB/s eta 0:00:01\r",
      "\u001b[K     |████████████████████▎           | 471 kB 5.7 MB/s eta 0:00:01\r",
      "\u001b[K     |████████████████████▋           | 481 kB 5.7 MB/s eta 0:00:01\r",
      "\u001b[K     |█████████████████████           | 491 kB 5.7 MB/s eta 0:00:01\r",
      "\u001b[K     |█████████████████████▌          | 501 kB 5.7 MB/s eta 0:00:01\r",
      "\u001b[K     |██████████████████████          | 512 kB 5.7 MB/s eta 0:00:01\r",
      "\u001b[K     |██████████████████████▍         | 522 kB 5.7 MB/s eta 0:00:01\r",
      "\u001b[K     |██████████████████████▉         | 532 kB 5.7 MB/s eta 0:00:01\r",
      "\u001b[K     |███████████████████████▎        | 542 kB 5.7 MB/s eta 0:00:01\r",
      "\u001b[K     |███████████████████████▊        | 552 kB 5.7 MB/s eta 0:00:01\r",
      "\u001b[K     |████████████████████████▏       | 563 kB 5.7 MB/s eta 0:00:01\r",
      "\u001b[K     |████████████████████████▋       | 573 kB 5.7 MB/s eta 0:00:01\r",
      "\u001b[K     |█████████████████████████       | 583 kB 5.7 MB/s eta 0:00:01\r",
      "\u001b[K     |█████████████████████████▌      | 593 kB 5.7 MB/s eta 0:00:01\r",
      "\u001b[K     |██████████████████████████      | 604 kB 5.7 MB/s eta 0:00:01\r",
      "\u001b[K     |██████████████████████████▍     | 614 kB 5.7 MB/s eta 0:00:01\r",
      "\u001b[K     |██████████████████████████▉     | 624 kB 5.7 MB/s eta 0:00:01\r",
      "\u001b[K     |███████████████████████████▎    | 634 kB 5.7 MB/s eta 0:00:01\r",
      "\u001b[K     |███████████████████████████▊    | 645 kB 5.7 MB/s eta 0:00:01\r",
      "\u001b[K     |████████████████████████████▏   | 655 kB 5.7 MB/s eta 0:00:01\r",
      "\u001b[K     |████████████████████████████▋   | 665 kB 5.7 MB/s eta 0:00:01\r",
      "\u001b[K     |█████████████████████████████   | 675 kB 5.7 MB/s eta 0:00:01\r",
      "\u001b[K     |█████████████████████████████▌  | 686 kB 5.7 MB/s eta 0:00:01\r",
      "\u001b[K     |██████████████████████████████  | 696 kB 5.7 MB/s eta 0:00:01\r",
      "\u001b[K     |██████████████████████████████▍ | 706 kB 5.7 MB/s eta 0:00:01\r",
      "\u001b[K     |██████████████████████████████▊ | 716 kB 5.7 MB/s eta 0:00:01\r",
      "\u001b[K     |███████████████████████████████▏| 727 kB 5.7 MB/s eta 0:00:01\r",
      "\u001b[K     |███████████████████████████████▋| 737 kB 5.7 MB/s eta 0:00:01\r",
      "\u001b[K     |████████████████████████████████| 745 kB 5.7 MB/s \n",
      "\u001b[?25hRequirement already satisfied: PyYAML in /usr/local/lib/python3.7/dist-packages (from pyngrok) (3.13)\n",
      "Building wheels for collected packages: pyngrok\n",
      "  Building wheel for pyngrok (setup.py) ... \u001b[?25l\u001b[?25hdone\n",
      "  Created wheel for pyngrok: filename=pyngrok-5.1.0-py3-none-any.whl size=19007 sha256=3292c09c02777d87934586def0b74ea6fa945aa8c8e9decb75d7e46c66a8a614\n",
      "  Stored in directory: /root/.cache/pip/wheels/bf/e6/af/ccf6598ecefecd44104069371795cb9b3afbcd16987f6ccfb3\n",
      "Successfully built pyngrok\n",
      "Installing collected packages: pyngrok\n",
      "Successfully installed pyngrok-5.1.0\n"
     ]
    }
   ],
   "source": [
    "!pip install pyngrok"
   ]
  },
  {
   "cell_type": "code",
   "execution_count": 5,
   "metadata": {
    "colab": {
     "base_uri": "https://localhost:8080/"
    },
    "executionInfo": {
     "elapsed": 23459,
     "status": "ok",
     "timestamp": 1649686776028,
     "user": {
      "displayName": "Tridib roy",
      "userId": "02827173694421186564"
     },
     "user_tz": -330
    },
    "id": "mNJSCeamkxwY",
    "outputId": "54df6a44-09f7-4e27-827e-9c64425aea71"
   },
   "outputs": [
    {
     "name": "stdout",
     "output_type": "stream",
     "text": [
      "torch:  1.10 ; cuda:  cu111\n"
     ]
    }
   ],
   "source": [
    "!pip install pyyaml==5.1 &> /dev/null\n",
    "\n",
    "import torch\n",
    "TORCH_VERSION = \".\".join(torch.__version__.split(\".\")[:2]) \n",
    "CUDA_VERSION = torch.__version__.split(\"+\")[-1]\n",
    "print(\"torch: \", TORCH_VERSION, \"; cuda: \", CUDA_VERSION)\n",
    "  # Install detectron2 that matches the above pytorch version\n",
    "  # See https://detectron2.readthedocs.io/tutorials/install.html for instructions\n",
    "!pip install detectron2 -f https://dl.fbaipublicfiles.com/detectron2/wheels/$CUDA_VERSION/torch$TORCH_VERSION/index.html &> /dev/null\n",
    "  # If there is not yet a detectron2 release that matches the given torch + CUDA version, you need to install a different pytorch.\n",
    "\n",
    "  # exit(0)  # After installation, you may need to \"restart runtime\" in Colab. This line can also restart runtime"
   ]
  },
  {
   "cell_type": "markdown",
   "metadata": {},
   "source": [
    "## Authenticating with ngrok account"
   ]
  },
  {
   "cell_type": "code",
   "execution_count": 4,
   "metadata": {
    "colab": {
     "base_uri": "https://localhost:8080/"
    },
    "executionInfo": {
     "elapsed": 5892,
     "status": "ok",
     "timestamp": 1649686751169,
     "user": {
      "displayName": "Tridib roy",
      "userId": "02827173694421186564"
     },
     "user_tz": -330
    },
    "id": "CnFy9s51m-FQ",
    "outputId": "4d74dc21-b94b-4ba7-f59c-2001b45fd3ad"
   },
   "outputs": [
    {
     "name": "stdout",
     "output_type": "stream",
     "text": [
      "Authtoken saved to configuration file: /root/.ngrok2/ngrok.yml\n"
     ]
    }
   ],
   "source": [
    "!ngrok authtoken [token]"
   ]
  },
  {
   "cell_type": "code",
   "execution_count": 6,
   "metadata": {
    "colab": {
     "base_uri": "https://localhost:8080/"
    },
    "executionInfo": {
     "elapsed": 16452,
     "status": "ok",
     "timestamp": 1649686798276,
     "user": {
      "displayName": "Tridib roy",
      "userId": "02827173694421186564"
     },
     "user_tz": -330
    },
    "id": "FJViYhAYlVfL",
    "outputId": "52a04ea2-5c69-4bb6-94db-13e771308fa9"
   },
   "outputs": [
    {
     "name": "stdout",
     "output_type": "stream",
     "text": [
      "Mounted at /content/gdrive\n",
      "/content/gdrive/MyDrive/Car damage detection1\n"
     ]
    }
   ],
   "source": [
    "from google.colab import drive\n",
    "drive.mount('/content/gdrive')\n",
    "%cd \"/content/gdrive/MyDrive/Car damage detection1\""
   ]
  },
  {
   "cell_type": "markdown",
   "metadata": {},
   "source": [
    "## Writing to App.py for deploying with streamlit"
   ]
  },
  {
   "cell_type": "code",
   "execution_count": null,
   "metadata": {
    "colab": {
     "base_uri": "https://localhost:8080/"
    },
    "executionInfo": {
     "elapsed": 361,
     "status": "ok",
     "timestamp": 1649590890063,
     "user": {
      "displayName": "Tridib roy",
      "userId": "02827173694421186564"
     },
     "user_tz": -330
    },
    "id": "r3qAdZCNl7Hy",
    "outputId": "f76c2d12-af19-458d-9738-7aeaeff10d6b"
   },
   "outputs": [
    {
     "name": "stdout",
     "output_type": "stream",
     "text": [
      "Overwriting app.py\n"
     ]
    }
   ],
   "source": [
    "%%writefile app.py\n",
    "\n",
    "import streamlit as st\n",
    "import base64\n",
    "from pathlib import Path\n",
    "st.set_page_config(\n",
    "    page_title=\"Car Damage Detector\",\n",
    "    page_icon=\"🚗\",\n",
    "    layout=\"wide\",\n",
    "    menu_items={\n",
    "         'Get Help': 'https://www.linkedin.com/in/tridib-roy-974374145/',\n",
    "         'Report a bug': \"https://www.linkedin.com/in/tridib-roy-974374145/\",\n",
    "         'About': \"Portfolio WebApp\"\n",
    "     }\n",
    ")\n",
    "\n",
    "st.title(\"Car Damage Detector\")\n",
    "# st.image(\"https://media.giphy.com/media/3o6MbhQZGGeskpDJLi/giphy.gif\")\n",
    "with st.expander(\"Expand for details on the classification model!!\"):\n",
    "    st.info(\"__Description:__ This model classifies the location & severity of damage on a car.\")\n",
    "    st.info(\"__Framework / model used:__ This model uses Detectron2, which is Facebook AI Research's next generation library that provides state-of-the-art detection and segmentation algorithms. \\n\" \n",
    "    \"It is the successor of Detectron and maskrcnn-benchmark. It supports a number of computer vision research projects and production applications in Facebook.\")\n",
    "    st.image(\"https://user-images.githubusercontent.com/1381301/66535560-d3422200-eace-11e9-9123-5535d469db19.png\")\n",
    "    st.info(\"__Dataset used:__ It is trained on a custom dataset of car images which was manually annotated using VGG Image Annotator (VIA).\")\n",
    "    \n",
    "\n",
    "name_cols=st.columns(2)\n",
    "car_url= name_cols[0].text_input(\"Insert an url to check car damage: \")\n",
    "try:\n",
    "  st.image(car_url,caption=\"Uploaded image\")\n",
    "  with st.spinner(\"Processing the image and loading necessary files.....\"):\n",
    "    import Detector\n",
    "    data = Detector.car_damage_detector(car_url)\n",
    "    parts = data[0]\n",
    "    extent = data[1]\n",
    "    st.success(\"Processing Completed!\")\n",
    "    st.write(\"\")\n",
    "    st.write(\"\")\n",
    "    st.info(\"The model classification results are as follows:  \")\n",
    "    st.write(f\"- Damaged Part detected close to {parts} area \\n- The detected area seems to have {extent}\\n\\n\")\n",
    "    st.image(\"car_damage.jpeg\",caption=\"The Classified Damages on the Car\")\n",
    "except:\n",
    "  st.text(\"Waiting for image....\")"
   ]
  },
  {
   "cell_type": "code",
   "execution_count": null,
   "metadata": {
    "colab": {
     "base_uri": "https://localhost:8080/"
    },
    "executionInfo": {
     "elapsed": 353,
     "status": "ok",
     "timestamp": 1649590893937,
     "user": {
      "displayName": "Tridib roy",
      "userId": "02827173694421186564"
     },
     "user_tz": -330
    },
    "id": "RfxrcdsgpSYw",
    "outputId": "729d3d17-d5d9-4da8-af67-f7f847aebe35"
   },
   "outputs": [
    {
     "name": "stdout",
     "output_type": "stream",
     "text": [
      "nohup: appending output to 'nohup.out'\n"
     ]
    }
   ],
   "source": [
    "!nohup streamlit run app.py &"
   ]
  },
  {
   "cell_type": "markdown",
   "metadata": {},
   "source": [
    "## Initializing Server"
   ]
  },
  {
   "cell_type": "code",
   "execution_count": 7,
   "metadata": {
    "colab": {
     "base_uri": "https://localhost:8080/"
    },
    "executionInfo": {
     "elapsed": 1024,
     "status": "ok",
     "timestamp": 1649686808107,
     "user": {
      "displayName": "Tridib roy",
      "userId": "02827173694421186564"
     },
     "user_tz": -330
    },
    "id": "8MJVKhzjpYGE",
    "outputId": "ab901168-a836-49f8-b227-33d0bc78108a"
   },
   "outputs": [
    {
     "data": {
      "text/plain": [
       "<NgrokTunnel: \"http://d865-35-230-67-235.ngrok.io\" -> \"http://localhost:80\">"
      ]
     },
     "execution_count": 7,
     "metadata": {},
     "output_type": "execute_result"
    }
   ],
   "source": [
    "from pyngrok import ngrok\n",
    "url=ngrok.connect(port=8501)\n",
    "url"
   ]
  },
  {
   "cell_type": "code",
   "execution_count": null,
   "metadata": {
    "id": "Sia8IQBsq0oT"
   },
   "outputs": [],
   "source": [
    "!streamlit run --server.port 80 app.py &> /dev/null "
   ]
  }
 ],
 "metadata": {
  "colab": {
   "name": "Web App.ipynb",
   "provenance": []
  },
  "kernelspec": {
   "display_name": "Python 3 (ipykernel)",
   "language": "python",
   "name": "python3"
  },
  "language_info": {
   "codemirror_mode": {
    "name": "ipython",
    "version": 3
   },
   "file_extension": ".py",
   "mimetype": "text/x-python",
   "name": "python",
   "nbconvert_exporter": "python",
   "pygments_lexer": "ipython3",
   "version": "3.8.12"
  }
 },
 "nbformat": 4,
 "nbformat_minor": 1
}
